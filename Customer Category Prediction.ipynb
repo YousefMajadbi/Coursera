{
 "cells": [
  {
   "cell_type": "markdown",
   "metadata": {},
   "source": [
    "# Customer Category Prediction "
   ]
  },
  {
   "cell_type": "markdown",
   "metadata": {},
   "source": [
    "## 1. Introduction"
   ]
  },
  {
   "cell_type": "markdown",
   "metadata": {},
   "source": [
    "### 1.1 Background\n",
    "**Customer Segmentation** is the process of partitioning a customer base into groups of individuals that have similar characteristics (\"Clustering them\").\n",
    "\n",
    "A Telecommunication provider has segmented its customer base by service usage patterns, categorizing the customers into four groups:<br>\n",
    "1- Basic Service.<br>\n",
    "2- E-Service.<br>\n",
    "3- Plus Service.<br>\n",
    "4- Total Service.<br>\n",
    "\n",
    "### 1.2 Problem Description: \n",
    "If demographic data can be used to predict group membership, the company can customize offers for individual prospective customers. It is a classification problem. That is, given the dataset, with predefined labels, we need to build a model to be used to predict class of a new or unknown case.\n",
    "\n",
    "### 1.3 Objective: \n",
    "Our objective is to build a classifier, to predict the class of unknown cases.<br>\n",
    "So, we need to determine which classification algorithm would be the best suited to create our model. "
   ]
  },
  {
   "cell_type": "markdown",
   "metadata": {},
   "source": [
    "## 2. Data: \n",
    "We are going to use a dataset pulled out from the telecommunication company database, and we ensured that it does not contains any PII.\n",
    "\n",
    "The example focuses on using demographic data, such as region, age, and marital, to predict usage patterns.\n",
    "\n",
    "The target field, called **custcat**."
   ]
  },
  {
   "cell_type": "markdown",
   "metadata": {},
   "source": [
    "## 3. Methodology"
   ]
  },
  {
   "cell_type": "markdown",
   "metadata": {},
   "source": [
    "Let's start by import the initial libraries needed in this project: "
   ]
  },
  {
   "cell_type": "code",
   "execution_count": 1,
   "metadata": {},
   "outputs": [],
   "source": [
    "import pandas as pd\n",
    "import numpy as np \n",
    "import seaborn as sns\n",
    "import matplotlib.pyplot as plt\n",
    "%matplotlib inline\n",
    "\n",
    "from sklearn.preprocessing import StandardScaler"
   ]
  },
  {
   "cell_type": "code",
   "execution_count": 2,
   "metadata": {},
   "outputs": [
    {
     "name": "stdout",
     "output_type": "stream",
     "text": [
      "(1000, 12)\n"
     ]
    },
    {
     "data": {
      "text/html": [
       "<div>\n",
       "<style scoped>\n",
       "    .dataframe tbody tr th:only-of-type {\n",
       "        vertical-align: middle;\n",
       "    }\n",
       "\n",
       "    .dataframe tbody tr th {\n",
       "        vertical-align: top;\n",
       "    }\n",
       "\n",
       "    .dataframe thead th {\n",
       "        text-align: right;\n",
       "    }\n",
       "</style>\n",
       "<table border=\"1\" class=\"dataframe\">\n",
       "  <thead>\n",
       "    <tr style=\"text-align: right;\">\n",
       "      <th></th>\n",
       "      <th>region</th>\n",
       "      <th>tenure</th>\n",
       "      <th>age</th>\n",
       "      <th>marital</th>\n",
       "      <th>address</th>\n",
       "      <th>income</th>\n",
       "      <th>ed</th>\n",
       "      <th>employ</th>\n",
       "      <th>retire</th>\n",
       "      <th>gender</th>\n",
       "      <th>reside</th>\n",
       "      <th>custcat</th>\n",
       "    </tr>\n",
       "  </thead>\n",
       "  <tbody>\n",
       "    <tr>\n",
       "      <th>0</th>\n",
       "      <td>2</td>\n",
       "      <td>13</td>\n",
       "      <td>44</td>\n",
       "      <td>1</td>\n",
       "      <td>9</td>\n",
       "      <td>64.0</td>\n",
       "      <td>4</td>\n",
       "      <td>5</td>\n",
       "      <td>0.0</td>\n",
       "      <td>0</td>\n",
       "      <td>2</td>\n",
       "      <td>1</td>\n",
       "    </tr>\n",
       "    <tr>\n",
       "      <th>1</th>\n",
       "      <td>3</td>\n",
       "      <td>11</td>\n",
       "      <td>33</td>\n",
       "      <td>1</td>\n",
       "      <td>7</td>\n",
       "      <td>136.0</td>\n",
       "      <td>5</td>\n",
       "      <td>5</td>\n",
       "      <td>0.0</td>\n",
       "      <td>0</td>\n",
       "      <td>6</td>\n",
       "      <td>4</td>\n",
       "    </tr>\n",
       "    <tr>\n",
       "      <th>2</th>\n",
       "      <td>3</td>\n",
       "      <td>68</td>\n",
       "      <td>52</td>\n",
       "      <td>1</td>\n",
       "      <td>24</td>\n",
       "      <td>116.0</td>\n",
       "      <td>1</td>\n",
       "      <td>29</td>\n",
       "      <td>0.0</td>\n",
       "      <td>1</td>\n",
       "      <td>2</td>\n",
       "      <td>3</td>\n",
       "    </tr>\n",
       "    <tr>\n",
       "      <th>3</th>\n",
       "      <td>2</td>\n",
       "      <td>33</td>\n",
       "      <td>33</td>\n",
       "      <td>0</td>\n",
       "      <td>12</td>\n",
       "      <td>33.0</td>\n",
       "      <td>2</td>\n",
       "      <td>0</td>\n",
       "      <td>0.0</td>\n",
       "      <td>1</td>\n",
       "      <td>1</td>\n",
       "      <td>1</td>\n",
       "    </tr>\n",
       "    <tr>\n",
       "      <th>4</th>\n",
       "      <td>2</td>\n",
       "      <td>23</td>\n",
       "      <td>30</td>\n",
       "      <td>1</td>\n",
       "      <td>9</td>\n",
       "      <td>30.0</td>\n",
       "      <td>1</td>\n",
       "      <td>2</td>\n",
       "      <td>0.0</td>\n",
       "      <td>0</td>\n",
       "      <td>4</td>\n",
       "      <td>3</td>\n",
       "    </tr>\n",
       "  </tbody>\n",
       "</table>\n",
       "</div>"
      ],
      "text/plain": [
       "   region  tenure  age  marital  address  income  ed  employ  retire  gender  \\\n",
       "0       2      13   44        1        9    64.0   4       5     0.0       0   \n",
       "1       3      11   33        1        7   136.0   5       5     0.0       0   \n",
       "2       3      68   52        1       24   116.0   1      29     0.0       1   \n",
       "3       2      33   33        0       12    33.0   2       0     0.0       1   \n",
       "4       2      23   30        1        9    30.0   1       2     0.0       0   \n",
       "\n",
       "   reside  custcat  \n",
       "0       2        1  \n",
       "1       6        4  \n",
       "2       2        3  \n",
       "3       1        1  \n",
       "4       4        3  "
      ]
     },
     "execution_count": 2,
     "metadata": {},
     "output_type": "execute_result"
    }
   ],
   "source": [
    "path=r'teleCust1000t.csv'\n",
    "df= pd.read_csv(path)\n",
    "print(df.shape)\n",
    "df.head()"
   ]
  },
  {
   "cell_type": "markdown",
   "metadata": {},
   "source": [
    "### 3.1 Exploratory Data Analysis"
   ]
  },
  {
   "cell_type": "code",
   "execution_count": 3,
   "metadata": {},
   "outputs": [
    {
     "data": {
      "text/html": [
       "<div>\n",
       "<style scoped>\n",
       "    .dataframe tbody tr th:only-of-type {\n",
       "        vertical-align: middle;\n",
       "    }\n",
       "\n",
       "    .dataframe tbody tr th {\n",
       "        vertical-align: top;\n",
       "    }\n",
       "\n",
       "    .dataframe thead th {\n",
       "        text-align: right;\n",
       "    }\n",
       "</style>\n",
       "<table border=\"1\" class=\"dataframe\">\n",
       "  <thead>\n",
       "    <tr style=\"text-align: right;\">\n",
       "      <th></th>\n",
       "      <th>region</th>\n",
       "      <th>tenure</th>\n",
       "      <th>age</th>\n",
       "      <th>marital</th>\n",
       "      <th>address</th>\n",
       "      <th>income</th>\n",
       "      <th>ed</th>\n",
       "      <th>employ</th>\n",
       "      <th>retire</th>\n",
       "      <th>gender</th>\n",
       "      <th>reside</th>\n",
       "      <th>custcat</th>\n",
       "    </tr>\n",
       "  </thead>\n",
       "  <tbody>\n",
       "    <tr>\n",
       "      <th>count</th>\n",
       "      <td>1000.0000</td>\n",
       "      <td>1000.000000</td>\n",
       "      <td>1000.000000</td>\n",
       "      <td>1000.000000</td>\n",
       "      <td>1000.000000</td>\n",
       "      <td>1000.000000</td>\n",
       "      <td>1000.000000</td>\n",
       "      <td>1000.000000</td>\n",
       "      <td>1000.000000</td>\n",
       "      <td>1000.000000</td>\n",
       "      <td>1000.000000</td>\n",
       "      <td>1000.000000</td>\n",
       "    </tr>\n",
       "    <tr>\n",
       "      <th>mean</th>\n",
       "      <td>2.0220</td>\n",
       "      <td>35.526000</td>\n",
       "      <td>41.684000</td>\n",
       "      <td>0.495000</td>\n",
       "      <td>11.551000</td>\n",
       "      <td>77.535000</td>\n",
       "      <td>2.671000</td>\n",
       "      <td>10.987000</td>\n",
       "      <td>0.047000</td>\n",
       "      <td>0.517000</td>\n",
       "      <td>2.331000</td>\n",
       "      <td>2.487000</td>\n",
       "    </tr>\n",
       "    <tr>\n",
       "      <th>std</th>\n",
       "      <td>0.8162</td>\n",
       "      <td>21.359812</td>\n",
       "      <td>12.558816</td>\n",
       "      <td>0.500225</td>\n",
       "      <td>10.086681</td>\n",
       "      <td>107.044165</td>\n",
       "      <td>1.222397</td>\n",
       "      <td>10.082087</td>\n",
       "      <td>0.211745</td>\n",
       "      <td>0.499961</td>\n",
       "      <td>1.435793</td>\n",
       "      <td>1.120306</td>\n",
       "    </tr>\n",
       "    <tr>\n",
       "      <th>min</th>\n",
       "      <td>1.0000</td>\n",
       "      <td>1.000000</td>\n",
       "      <td>18.000000</td>\n",
       "      <td>0.000000</td>\n",
       "      <td>0.000000</td>\n",
       "      <td>9.000000</td>\n",
       "      <td>1.000000</td>\n",
       "      <td>0.000000</td>\n",
       "      <td>0.000000</td>\n",
       "      <td>0.000000</td>\n",
       "      <td>1.000000</td>\n",
       "      <td>1.000000</td>\n",
       "    </tr>\n",
       "    <tr>\n",
       "      <th>25%</th>\n",
       "      <td>1.0000</td>\n",
       "      <td>17.000000</td>\n",
       "      <td>32.000000</td>\n",
       "      <td>0.000000</td>\n",
       "      <td>3.000000</td>\n",
       "      <td>29.000000</td>\n",
       "      <td>2.000000</td>\n",
       "      <td>3.000000</td>\n",
       "      <td>0.000000</td>\n",
       "      <td>0.000000</td>\n",
       "      <td>1.000000</td>\n",
       "      <td>1.000000</td>\n",
       "    </tr>\n",
       "    <tr>\n",
       "      <th>50%</th>\n",
       "      <td>2.0000</td>\n",
       "      <td>34.000000</td>\n",
       "      <td>40.000000</td>\n",
       "      <td>0.000000</td>\n",
       "      <td>9.000000</td>\n",
       "      <td>47.000000</td>\n",
       "      <td>3.000000</td>\n",
       "      <td>8.000000</td>\n",
       "      <td>0.000000</td>\n",
       "      <td>1.000000</td>\n",
       "      <td>2.000000</td>\n",
       "      <td>3.000000</td>\n",
       "    </tr>\n",
       "    <tr>\n",
       "      <th>75%</th>\n",
       "      <td>3.0000</td>\n",
       "      <td>54.000000</td>\n",
       "      <td>51.000000</td>\n",
       "      <td>1.000000</td>\n",
       "      <td>18.000000</td>\n",
       "      <td>83.000000</td>\n",
       "      <td>4.000000</td>\n",
       "      <td>17.000000</td>\n",
       "      <td>0.000000</td>\n",
       "      <td>1.000000</td>\n",
       "      <td>3.000000</td>\n",
       "      <td>3.000000</td>\n",
       "    </tr>\n",
       "    <tr>\n",
       "      <th>max</th>\n",
       "      <td>3.0000</td>\n",
       "      <td>72.000000</td>\n",
       "      <td>77.000000</td>\n",
       "      <td>1.000000</td>\n",
       "      <td>55.000000</td>\n",
       "      <td>1668.000000</td>\n",
       "      <td>5.000000</td>\n",
       "      <td>47.000000</td>\n",
       "      <td>1.000000</td>\n",
       "      <td>1.000000</td>\n",
       "      <td>8.000000</td>\n",
       "      <td>4.000000</td>\n",
       "    </tr>\n",
       "  </tbody>\n",
       "</table>\n",
       "</div>"
      ],
      "text/plain": [
       "          region       tenure          age      marital      address  \\\n",
       "count  1000.0000  1000.000000  1000.000000  1000.000000  1000.000000   \n",
       "mean      2.0220    35.526000    41.684000     0.495000    11.551000   \n",
       "std       0.8162    21.359812    12.558816     0.500225    10.086681   \n",
       "min       1.0000     1.000000    18.000000     0.000000     0.000000   \n",
       "25%       1.0000    17.000000    32.000000     0.000000     3.000000   \n",
       "50%       2.0000    34.000000    40.000000     0.000000     9.000000   \n",
       "75%       3.0000    54.000000    51.000000     1.000000    18.000000   \n",
       "max       3.0000    72.000000    77.000000     1.000000    55.000000   \n",
       "\n",
       "            income           ed       employ       retire       gender  \\\n",
       "count  1000.000000  1000.000000  1000.000000  1000.000000  1000.000000   \n",
       "mean     77.535000     2.671000    10.987000     0.047000     0.517000   \n",
       "std     107.044165     1.222397    10.082087     0.211745     0.499961   \n",
       "min       9.000000     1.000000     0.000000     0.000000     0.000000   \n",
       "25%      29.000000     2.000000     3.000000     0.000000     0.000000   \n",
       "50%      47.000000     3.000000     8.000000     0.000000     1.000000   \n",
       "75%      83.000000     4.000000    17.000000     0.000000     1.000000   \n",
       "max    1668.000000     5.000000    47.000000     1.000000     1.000000   \n",
       "\n",
       "            reside      custcat  \n",
       "count  1000.000000  1000.000000  \n",
       "mean      2.331000     2.487000  \n",
       "std       1.435793     1.120306  \n",
       "min       1.000000     1.000000  \n",
       "25%       1.000000     1.000000  \n",
       "50%       2.000000     3.000000  \n",
       "75%       3.000000     3.000000  \n",
       "max       8.000000     4.000000  "
      ]
     },
     "execution_count": 3,
     "metadata": {},
     "output_type": "execute_result"
    }
   ],
   "source": [
    "df.describe()"
   ]
  },
  {
   "cell_type": "markdown",
   "metadata": {},
   "source": [
    "As we can see the data is almost cleaned except the income which looks to be have an outliers as its STD does not make sense.<br>\n",
    "lets have a look at the max income value"
   ]
  },
  {
   "cell_type": "code",
   "execution_count": 4,
   "metadata": {},
   "outputs": [
    {
     "data": {
      "image/png": "[encoded data removed]",
      "text/plain": [
       "<Figure size 432x288 with 1 Axes>"
      ]
     },
     "metadata": {
      "needs_background": "light"
     },
     "output_type": "display_data"
    }
   ],
   "source": [
    "sns.boxplot(x=df['income'])\n",
    "plt.title('Income distribution with Outliers')\n",
    "plt.show()"
   ]
  },
  {
   "cell_type": "markdown",
   "metadata": {},
   "source": [
    "It's obvious that we have a lot of outliers and these outliers will affect our analysis.<br>\n",
    "So, let's remove those over 750 (4 rows)"
   ]
  },
  {
   "cell_type": "code",
   "execution_count": 5,
   "metadata": {},
   "outputs": [],
   "source": [
    "from scipy import stats\n",
    "df= df[stats.zscore(df['income']) < 7]"
   ]
  },
  {
   "cell_type": "code",
   "execution_count": 6,
   "metadata": {},
   "outputs": [
    {
     "data": {
      "text/plain": [
       "count    996.000000\n",
       "mean      73.156627\n",
       "std       79.663120\n",
       "min        9.000000\n",
       "25%       29.000000\n",
       "50%       47.000000\n",
       "75%       83.000000\n",
       "max      732.000000\n",
       "Name: income, dtype: float64"
      ]
     },
     "execution_count": 6,
     "metadata": {},
     "output_type": "execute_result"
    }
   ],
   "source": [
    "df['income'].describe()"
   ]
  },
  {
   "cell_type": "markdown",
   "metadata": {},
   "source": [
    "Now it's better as the Income std is 79"
   ]
  },
  {
   "cell_type": "markdown",
   "metadata": {},
   "source": [
    "Let's have a look at the correlation between the variables "
   ]
  },
  {
   "cell_type": "code",
   "execution_count": 7,
   "metadata": {},
   "outputs": [
    {
     "data": {
      "text/html": [
       "<div>\n",
       "<style scoped>\n",
       "    .dataframe tbody tr th:only-of-type {\n",
       "        vertical-align: middle;\n",
       "    }\n",
       "\n",
       "    .dataframe tbody tr th {\n",
       "        vertical-align: top;\n",
       "    }\n",
       "\n",
       "    .dataframe thead th {\n",
       "        text-align: right;\n",
       "    }\n",
       "</style>\n",
       "<table border=\"1\" class=\"dataframe\">\n",
       "  <thead>\n",
       "    <tr style=\"text-align: right;\">\n",
       "      <th></th>\n",
       "      <th>region</th>\n",
       "      <th>tenure</th>\n",
       "      <th>age</th>\n",
       "      <th>marital</th>\n",
       "      <th>address</th>\n",
       "      <th>income</th>\n",
       "      <th>ed</th>\n",
       "      <th>employ</th>\n",
       "      <th>retire</th>\n",
       "      <th>gender</th>\n",
       "      <th>reside</th>\n",
       "      <th>custcat</th>\n",
       "    </tr>\n",
       "  </thead>\n",
       "  <tbody>\n",
       "    <tr>\n",
       "      <th>region</th>\n",
       "      <td>1.000000</td>\n",
       "      <td>0.013068</td>\n",
       "      <td>0.012008</td>\n",
       "      <td>-0.079861</td>\n",
       "      <td>0.007687</td>\n",
       "      <td>0.016956</td>\n",
       "      <td>-0.059502</td>\n",
       "      <td>0.012102</td>\n",
       "      <td>0.005858</td>\n",
       "      <td>0.049618</td>\n",
       "      <td>-0.062600</td>\n",
       "      <td>-0.025467</td>\n",
       "    </tr>\n",
       "    <tr>\n",
       "      <th>tenure</th>\n",
       "      <td>0.013068</td>\n",
       "      <td>1.000000</td>\n",
       "      <td>0.487708</td>\n",
       "      <td>0.158357</td>\n",
       "      <td>0.521060</td>\n",
       "      <td>0.284077</td>\n",
       "      <td>-0.112543</td>\n",
       "      <td>0.517841</td>\n",
       "      <td>0.172364</td>\n",
       "      <td>0.023994</td>\n",
       "      <td>-0.033818</td>\n",
       "      <td>0.164508</td>\n",
       "    </tr>\n",
       "    <tr>\n",
       "      <th>age</th>\n",
       "      <td>0.012008</td>\n",
       "      <td>0.487708</td>\n",
       "      <td>1.000000</td>\n",
       "      <td>-0.008846</td>\n",
       "      <td>0.658978</td>\n",
       "      <td>0.363621</td>\n",
       "      <td>-0.159196</td>\n",
       "      <td>0.666549</td>\n",
       "      <td>0.432680</td>\n",
       "      <td>-0.011138</td>\n",
       "      <td>-0.252339</td>\n",
       "      <td>0.054608</td>\n",
       "    </tr>\n",
       "    <tr>\n",
       "      <th>marital</th>\n",
       "      <td>-0.079861</td>\n",
       "      <td>0.158357</td>\n",
       "      <td>-0.008846</td>\n",
       "      <td>1.000000</td>\n",
       "      <td>-0.006104</td>\n",
       "      <td>-0.004679</td>\n",
       "      <td>0.004116</td>\n",
       "      <td>0.006071</td>\n",
       "      <td>-0.079155</td>\n",
       "      <td>0.008243</td>\n",
       "      <td>0.625805</td>\n",
       "      <td>0.085931</td>\n",
       "    </tr>\n",
       "    <tr>\n",
       "      <th>address</th>\n",
       "      <td>0.007687</td>\n",
       "      <td>0.521060</td>\n",
       "      <td>0.658978</td>\n",
       "      <td>-0.006104</td>\n",
       "      <td>1.000000</td>\n",
       "      <td>0.231048</td>\n",
       "      <td>-0.135651</td>\n",
       "      <td>0.457711</td>\n",
       "      <td>0.295601</td>\n",
       "      <td>0.007336</td>\n",
       "      <td>-0.199477</td>\n",
       "      <td>0.063817</td>\n",
       "    </tr>\n",
       "    <tr>\n",
       "      <th>income</th>\n",
       "      <td>0.016956</td>\n",
       "      <td>0.284077</td>\n",
       "      <td>0.363621</td>\n",
       "      <td>-0.004679</td>\n",
       "      <td>0.231048</td>\n",
       "      <td>1.000000</td>\n",
       "      <td>0.115401</td>\n",
       "      <td>0.581645</td>\n",
       "      <td>-0.100402</td>\n",
       "      <td>0.047120</td>\n",
       "      <td>-0.095421</td>\n",
       "      <td>0.164220</td>\n",
       "    </tr>\n",
       "    <tr>\n",
       "      <th>ed</th>\n",
       "      <td>-0.059502</td>\n",
       "      <td>-0.112543</td>\n",
       "      <td>-0.159196</td>\n",
       "      <td>0.004116</td>\n",
       "      <td>-0.135651</td>\n",
       "      <td>0.115401</td>\n",
       "      <td>1.000000</td>\n",
       "      <td>-0.236343</td>\n",
       "      <td>-0.113932</td>\n",
       "      <td>0.003537</td>\n",
       "      <td>0.023286</td>\n",
       "      <td>0.192620</td>\n",
       "    </tr>\n",
       "    <tr>\n",
       "      <th>employ</th>\n",
       "      <td>0.012102</td>\n",
       "      <td>0.517841</td>\n",
       "      <td>0.666549</td>\n",
       "      <td>0.006071</td>\n",
       "      <td>0.457711</td>\n",
       "      <td>0.581645</td>\n",
       "      <td>-0.236343</td>\n",
       "      <td>1.000000</td>\n",
       "      <td>0.282541</td>\n",
       "      <td>0.048342</td>\n",
       "      <td>-0.130487</td>\n",
       "      <td>0.106675</td>\n",
       "    </tr>\n",
       "    <tr>\n",
       "      <th>retire</th>\n",
       "      <td>0.005858</td>\n",
       "      <td>0.172364</td>\n",
       "      <td>0.432680</td>\n",
       "      <td>-0.079155</td>\n",
       "      <td>0.295601</td>\n",
       "      <td>-0.100402</td>\n",
       "      <td>-0.113932</td>\n",
       "      <td>0.282541</td>\n",
       "      <td>1.000000</td>\n",
       "      <td>0.053989</td>\n",
       "      <td>-0.140848</td>\n",
       "      <td>0.009329</td>\n",
       "    </tr>\n",
       "    <tr>\n",
       "      <th>gender</th>\n",
       "      <td>0.049618</td>\n",
       "      <td>0.023994</td>\n",
       "      <td>-0.011138</td>\n",
       "      <td>0.008243</td>\n",
       "      <td>0.007336</td>\n",
       "      <td>0.047120</td>\n",
       "      <td>0.003537</td>\n",
       "      <td>0.048342</td>\n",
       "      <td>0.053989</td>\n",
       "      <td>1.000000</td>\n",
       "      <td>0.017933</td>\n",
       "      <td>-0.004920</td>\n",
       "    </tr>\n",
       "    <tr>\n",
       "      <th>reside</th>\n",
       "      <td>-0.062600</td>\n",
       "      <td>-0.033818</td>\n",
       "      <td>-0.252339</td>\n",
       "      <td>0.625805</td>\n",
       "      <td>-0.199477</td>\n",
       "      <td>-0.095421</td>\n",
       "      <td>0.023286</td>\n",
       "      <td>-0.130487</td>\n",
       "      <td>-0.140848</td>\n",
       "      <td>0.017933</td>\n",
       "      <td>1.000000</td>\n",
       "      <td>0.083306</td>\n",
       "    </tr>\n",
       "    <tr>\n",
       "      <th>custcat</th>\n",
       "      <td>-0.025467</td>\n",
       "      <td>0.164508</td>\n",
       "      <td>0.054608</td>\n",
       "      <td>0.085931</td>\n",
       "      <td>0.063817</td>\n",
       "      <td>0.164220</td>\n",
       "      <td>0.192620</td>\n",
       "      <td>0.106675</td>\n",
       "      <td>0.009329</td>\n",
       "      <td>-0.004920</td>\n",
       "      <td>0.083306</td>\n",
       "      <td>1.000000</td>\n",
       "    </tr>\n",
       "  </tbody>\n",
       "</table>\n",
       "</div>"
      ],
      "text/plain": [
       "           region    tenure       age   marital   address    income        ed  \\\n",
       "region   1.000000  0.013068  0.012008 -0.079861  0.007687  0.016956 -0.059502   \n",
       "tenure   0.013068  1.000000  0.487708  0.158357  0.521060  0.284077 -0.112543   \n",
       "age      0.012008  0.487708  1.000000 -0.008846  0.658978  0.363621 -0.159196   \n",
       "marital -0.079861  0.158357 -0.008846  1.000000 -0.006104 -0.004679  0.004116   \n",
       "address  0.007687  0.521060  0.658978 -0.006104  1.000000  0.231048 -0.135651   \n",
       "income   0.016956  0.284077  0.363621 -0.004679  0.231048  1.000000  0.115401   \n",
       "ed      -0.059502 -0.112543 -0.159196  0.004116 -0.135651  0.115401  1.000000   \n",
       "employ   0.012102  0.517841  0.666549  0.006071  0.457711  0.581645 -0.236343   \n",
       "retire   0.005858  0.172364  0.432680 -0.079155  0.295601 -0.100402 -0.113932   \n",
       "gender   0.049618  0.023994 -0.011138  0.008243  0.007336  0.047120  0.003537   \n",
       "reside  -0.062600 -0.033818 -0.252339  0.625805 -0.199477 -0.095421  0.023286   \n",
       "custcat -0.025467  0.164508  0.054608  0.085931  0.063817  0.164220  0.192620   \n",
       "\n",
       "           employ    retire    gender    reside   custcat  \n",
       "region   0.012102  0.005858  0.049618 -0.062600 -0.025467  \n",
       "tenure   0.517841  0.172364  0.023994 -0.033818  0.164508  \n",
       "age      0.666549  0.432680 -0.011138 -0.252339  0.054608  \n",
       "marital  0.006071 -0.079155  0.008243  0.625805  0.085931  \n",
       "address  0.457711  0.295601  0.007336 -0.199477  0.063817  \n",
       "income   0.581645 -0.100402  0.047120 -0.095421  0.164220  \n",
       "ed      -0.236343 -0.113932  0.003537  0.023286  0.192620  \n",
       "employ   1.000000  0.282541  0.048342 -0.130487  0.106675  \n",
       "retire   0.282541  1.000000  0.053989 -0.140848  0.009329  \n",
       "gender   0.048342  0.053989  1.000000  0.017933 -0.004920  \n",
       "reside  -0.130487 -0.140848  0.017933  1.000000  0.083306  \n",
       "custcat  0.106675  0.009329 -0.004920  0.083306  1.000000  "
      ]
     },
     "execution_count": 7,
     "metadata": {},
     "output_type": "execute_result"
    }
   ],
   "source": [
    "df.corr()"
   ]
  },
  {
   "cell_type": "markdown",
   "metadata": {},
   "source": [
    "There is no clear correlation. However let's visualize our data"
   ]
  },
  {
   "cell_type": "markdown",
   "metadata": {},
   "source": [
    "#### 3.1.1 Visualization"
   ]
  },
  {
   "cell_type": "markdown",
   "metadata": {},
   "source": [
    "Let's start with the dependent variable \"CustCat\""
   ]
  },
  {
   "cell_type": "code",
   "execution_count": 8,
   "metadata": {},
   "outputs": [
    {
     "data": {
      "text/plain": [
       "3    279\n",
       "1    266\n",
       "4    235\n",
       "2    216\n",
       "Name: custcat, dtype: int64"
      ]
     },
     "execution_count": 8,
     "metadata": {},
     "output_type": "execute_result"
    }
   ],
   "source": [
    "df['custcat'].value_counts()"
   ]
  },
  {
   "cell_type": "code",
   "execution_count": 9,
   "metadata": {},
   "outputs": [
    {
     "data": {
      "image/png": "[encoded data removed]",
      "text/plain": [
       "<Figure size 432x288 with 1 Axes>"
      ]
     },
     "metadata": {
      "needs_background": "light"
     },
     "output_type": "display_data"
    }
   ],
   "source": [
    "ax= sns.countplot(x='custcat',data=df)\n",
    "plt.xlabel('Customer Categories',fontsize=15)\n",
    "plt.ylabel('Count',fontsize=15)\n",
    "plt.title('Customer Categories grouped by Count')\n",
    "plt.show()\n",
    "# 1- Basic Service.\n",
    "# 2- E-Service.\n",
    "# 3- Plus Service.\n",
    "# 4- Total Service."
   ]
  },
  {
   "cell_type": "code",
   "execution_count": 10,
   "metadata": {},
   "outputs": [
    {
     "data": {
      "image/png": "[encoded data removed]",
      "text/plain": [
       "<Figure size 432x288 with 1 Axes>"
      ]
     },
     "metadata": {
      "needs_background": "light"
     },
     "output_type": "display_data"
    }
   ],
   "source": [
    "bins = np.linspace(df.age.min(), df.age.max(), 15)\n",
    "plt.hist('age',data=df,bins=bins)\n",
    "plt.title('Age distribution')\n",
    "plt.show()"
   ]
  },
  {
   "cell_type": "markdown",
   "metadata": {},
   "source": [
    "The ages are mostly between 30 and 45. Recalling the describe() function results this makes sense. The average age was ~41. There are less older customers, so this distribution is right-skewed because of its longer right tail."
   ]
  },
  {
   "cell_type": "code",
   "execution_count": 11,
   "metadata": {},
   "outputs": [
    {
     "data": {
      "image/png": "[encoded data removed]",
      "text/plain": [
       "<Figure size 432x288 with 1 Axes>"
      ]
     },
     "metadata": {
      "needs_background": "light"
     },
     "output_type": "display_data"
    }
   ],
   "source": [
    "sns.countplot(x='gender',data=df)\n",
    "plt.title('Genders counts',fontsize=15)\n",
    "plt.show()"
   ]
  },
  {
   "cell_type": "markdown",
   "metadata": {},
   "source": [
    "Females are slightly more that Males in this data.\n",
    "\n",
    "Let's have a look to the age distribution grouped by gender"
   ]
  },
  {
   "cell_type": "code",
   "execution_count": 12,
   "metadata": {},
   "outputs": [
    {
     "data": {
      "image/png": "[encoded data removed]",
      "text/plain": [
       "<Figure size 432x288 with 1 Axes>"
      ]
     },
     "metadata": {
      "needs_background": "light"
     },
     "output_type": "display_data"
    }
   ],
   "source": [
    "bins= np.linspace(df.age.min(),df.age.max(),15)\n",
    "plt.hist('age',data=df[df['gender']==0],alpha=0.5,label='Male',bins=bins)\n",
    "plt.hist('age',data=df[df['gender']==1],alpha=0.5,label='Female',bins=bins)\n",
    "plt.title('Distribution of Age by Gender')\n",
    "plt.xlabel('Age',fontsize=15)\n",
    "plt.ylabel('Count',fontsize=15)\n",
    "plt.legend(loc='best')\n",
    "plt.show()"
   ]
  },
  {
   "cell_type": "markdown",
   "metadata": {},
   "source": [
    "We can see the distribution of the Age are very close for both genders, as we can also confirm that they have the same Mean as the following"
   ]
  },
  {
   "cell_type": "code",
   "execution_count": 13,
   "metadata": {},
   "outputs": [
    {
     "data": {
      "text/html": [
       "<div>\n",
       "<style scoped>\n",
       "    .dataframe tbody tr th:only-of-type {\n",
       "        vertical-align: middle;\n",
       "    }\n",
       "\n",
       "    .dataframe tbody tr th {\n",
       "        vertical-align: top;\n",
       "    }\n",
       "\n",
       "    .dataframe thead th {\n",
       "        text-align: right;\n",
       "    }\n",
       "</style>\n",
       "<table border=\"1\" class=\"dataframe\">\n",
       "  <thead>\n",
       "    <tr style=\"text-align: right;\">\n",
       "      <th></th>\n",
       "      <th>age</th>\n",
       "    </tr>\n",
       "    <tr>\n",
       "      <th>gender</th>\n",
       "      <th></th>\n",
       "    </tr>\n",
       "  </thead>\n",
       "  <tbody>\n",
       "    <tr>\n",
       "      <th>0</th>\n",
       "      <td>41.756757</td>\n",
       "    </tr>\n",
       "    <tr>\n",
       "      <th>1</th>\n",
       "      <td>41.477670</td>\n",
       "    </tr>\n",
       "  </tbody>\n",
       "</table>\n",
       "</div>"
      ],
      "text/plain": [
       "              age\n",
       "gender           \n",
       "0       41.756757\n",
       "1       41.477670"
      ]
     },
     "execution_count": 13,
     "metadata": {},
     "output_type": "execute_result"
    }
   ],
   "source": [
    "df[['age','gender']].groupby('gender').mean()"
   ]
  },
  {
   "cell_type": "markdown",
   "metadata": {},
   "source": [
    "Compering the above income histogram with the describe() result we can observe the average income is around 77 K"
   ]
  },
  {
   "cell_type": "code",
   "execution_count": 14,
   "metadata": {},
   "outputs": [
    {
     "data": {
      "image/png": "[encoded data removed]",
      "text/plain": [
       "<Figure size 432x432 with 4 Axes>"
      ]
     },
     "metadata": {
      "needs_background": "light"
     },
     "output_type": "display_data"
    }
   ],
   "source": [
    "bins= np.linspace(df.age.min(),df.age.max(),10)\n",
    "g= sns.FacetGrid(df,col='custcat',hue='gender',col_wrap=2)\n",
    "g.map(plt.hist,'age',bins=bins,alpha=0.5)\n",
    "g.axes[-1].legend(['Male','Female'])\n",
    "plt.show()"
   ]
  },
  {
   "cell_type": "markdown",
   "metadata": {},
   "source": [
    "We can see that there is a slightly different between the age and gender distributions for each customer category"
   ]
  },
  {
   "cell_type": "markdown",
   "metadata": {},
   "source": [
    "Let's have a look at the distribution of the income"
   ]
  },
  {
   "cell_type": "code",
   "execution_count": 15,
   "metadata": {},
   "outputs": [
    {
     "data": {
      "image/png": "[encoded data removed]",
      "text/plain": [
       "<Figure size 432x288 with 1 Axes>"
      ]
     },
     "metadata": {
      "needs_background": "light"
     },
     "output_type": "display_data"
    }
   ],
   "source": [
    "bins = np.linspace(df.income.min(), df.income.max(), round(df.income.std()))\n",
    "plt.hist('income',data=df[df['gender']==0],alpha=0.5,label='Male',bins=bins)\n",
    "plt.hist('income',data=df[df['gender']==1],alpha=0.5,label='Female',bins=bins)\n",
    "plt.legend()\n",
    "plt.title('Distribution of Income by gender')\n",
    "plt.show()"
   ]
  },
  {
   "cell_type": "markdown",
   "metadata": {},
   "source": [
    "As we can see the Income distribution is right skewed and as we saw in the describe() table the mean was around 70K\n",
    "\n",
    "Now let's have a look at the income distribution for each custcat"
   ]
  },
  {
   "cell_type": "code",
   "execution_count": 16,
   "metadata": {},
   "outputs": [
    {
     "data": {
      "image/png": "[encoded data removed]",
      "text/plain": [
       "<Figure size 432x432 with 4 Axes>"
      ]
     },
     "metadata": {
      "needs_background": "light"
     },
     "output_type": "display_data"
    }
   ],
   "source": [
    "bins= np.linspace(df.income.min(),df.income.max(),round(df.income.std()))\n",
    "g= sns.FacetGrid(df,col='custcat',col_wrap=2)\n",
    "g.map(plt.hist,'income',bins=bins)\n",
    "# g.axes[-1].legend()\n",
    "plt.show()"
   ]
  },
  {
   "cell_type": "code",
   "execution_count": 34,
   "metadata": {},
   "outputs": [
    {
     "data": {
      "image/png": "[encoded data removed]",
      "text/plain": [
       "<Figure size 432x432 with 4 Axes>"
      ]
     },
     "metadata": {
      "needs_background": "light"
     },
     "output_type": "display_data"
    }
   ],
   "source": [
    "g= sns.FacetGrid(df,col='custcat',hue='gender',col_wrap=2)\n",
    "g.map(plt.scatter,'age','income',alpha=0.5)\n",
    "g.axes[-1].legend(['Male','Female'],loc='best')\n",
    "plt.show()"
   ]
  },
  {
   "cell_type": "markdown",
   "metadata": {},
   "source": [
    "We can see the income become higher for ages between 40 and 60 regardless of gender.<br>\n",
    "and for clusters 3 and 4 the correlation between age and income is more pronounced."
   ]
  },
  {
   "cell_type": "markdown",
   "metadata": {},
   "source": [
    "And finally let's have a look at the education and custcat correlation"
   ]
  },
  {
   "cell_type": "code",
   "execution_count": 18,
   "metadata": {},
   "outputs": [
    {
     "data": {
      "image/png": "[encoded data removed]",
      "text/plain": [
       "<Figure size 432x288 with 1 Axes>"
      ]
     },
     "metadata": {
      "needs_background": "light"
     },
     "output_type": "display_data"
    }
   ],
   "source": [
    "sns.countplot('ed',data=df,order=np.unique(df['ed']))\n",
    "plt.title('Count of each education level')\n",
    "plt.show()"
   ]
  },
  {
   "cell_type": "code",
   "execution_count": 19,
   "metadata": {},
   "outputs": [
    {
     "data": {
      "image/png": "[encoded data removed]",
      "text/plain": [
       "<Figure size 432x432 with 4 Axes>"
      ]
     },
     "metadata": {
      "needs_background": "light"
     },
     "output_type": "display_data"
    }
   ],
   "source": [
    "g= sns.FacetGrid(df,col='custcat',col_wrap=2)\n",
    "g.map(sns.countplot,'ed',order= np.unique(df['ed']))\n",
    "plt.show()"
   ]
  },
  {
   "cell_type": "markdown",
   "metadata": {},
   "source": [
    "### 3.2 Preprocessing\n",
    "As we can see from the above description and distribution our data is cleaned enough.<br>\n",
    "Except that we need to do **Feature Selection** and  **Normalization**."
   ]
  },
  {
   "cell_type": "markdown",
   "metadata": {},
   "source": [
    "#### 3.2.1 Feature Selection\n",
    "**Feature Selection** is the process of choosing the features that will be used to train our models."
   ]
  },
  {
   "cell_type": "code",
   "execution_count": 20,
   "metadata": {},
   "outputs": [],
   "source": [
    "x= df[['region', 'tenure', 'age', 'marital', 'address', 'income', 'ed',\n",
    "       'employ', 'retire', 'gender', 'reside']].values\n",
    "\n",
    "y= df['custcat']"
   ]
  },
  {
   "cell_type": "markdown",
   "metadata": {},
   "source": [
    "#### 3.2.2 Normalization\n",
    "**Normalization** is a statistical method that helps mathematical based algorithms to interpret features with different magnitudes and distributions equally. We use **StandardScaler()** to normalize out dataset."
   ]
  },
  {
   "cell_type": "code",
   "execution_count": 21,
   "metadata": {},
   "outputs": [
    {
     "data": {
      "text/plain": [
       "array([[-0.02585103, -1.05207053,  0.19067508,  1.00604235, -0.24793174,\n",
       "        -0.1149996 ,  1.09113421, -0.59050008, -0.22254397, -1.03473961,\n",
       "        -0.23283577],\n",
       "       [ 1.2002266 , -1.14579283, -0.68780943,  1.00604235, -0.44707691,\n",
       "         0.78926039,  1.91010157, -0.59050008, -0.22254397, -1.03473961,\n",
       "         2.55280295]])"
      ]
     },
     "execution_count": 21,
     "metadata": {},
     "output_type": "execute_result"
    }
   ],
   "source": [
    "x= np.nan_to_num(x) # conver nan values into zeros\n",
    "x= StandardScaler().fit_transform(x)\n",
    "x[:2,:]"
   ]
  },
  {
   "cell_type": "markdown",
   "metadata": {},
   "source": [
    "## 4. Classification\n",
    "We are going to create 4 models using the followoing algorithm with a train set:\n",
    "-   K Nearest Neighbor(KNN)\n",
    "-   Decision Tree\n",
    "-   Support Vector Machine\n",
    "-   Logistic Regression\n",
    "\n",
    "Then we will use a test set to report the accuracy of the model. to choose the suitable algorithm."
   ]
  },
  {
   "cell_type": "markdown",
   "metadata": {},
   "source": [
    "#### Import Libraries"
   ]
  },
  {
   "cell_type": "code",
   "execution_count": 22,
   "metadata": {},
   "outputs": [],
   "source": [
    "# train_test_split\n",
    "from sklearn.model_selection import train_test_split\n",
    "\n",
    "# classifiers libraries\n",
    "from sklearn.neighbors import KNeighborsClassifier\n",
    "from sklearn.tree import DecisionTreeClassifier\n",
    "from sklearn import svm \n",
    "from sklearn.linear_model import LogisticRegression\n",
    "\n",
    "# Evaluation libraries\n",
    "from sklearn.metrics import accuracy_score\n",
    "from sklearn.metrics import jaccard_score\n",
    "from sklearn.metrics import f1_score\n",
    "from sklearn.metrics import log_loss"
   ]
  },
  {
   "cell_type": "markdown",
   "metadata": {},
   "source": [
    "#### Train-Test Split"
   ]
  },
  {
   "cell_type": "code",
   "execution_count": 23,
   "metadata": {},
   "outputs": [
    {
     "name": "stdout",
     "output_type": "stream",
     "text": [
      "Train set:  (796, 11) (796,)\n",
      "Test set:  (200, 11) (200,)\n"
     ]
    }
   ],
   "source": [
    "x_train, x_test, y_train, y_test= train_test_split(x,y, test_size=0.2, random_state=4)\n",
    "print('Train set: ',x_train.shape, y_train.shape)\n",
    "print('Test set: ',x_test.shape, y_test.shape)"
   ]
  },
  {
   "cell_type": "markdown",
   "metadata": {},
   "source": [
    "### 4.1 KNN\n",
    "For KNN model we need to choose the best **K** value to build the model with the best accuracy."
   ]
  },
  {
   "cell_type": "code",
   "execution_count": 24,
   "metadata": {},
   "outputs": [
    {
     "name": "stdout",
     "output_type": "stream",
     "text": [
      "The best K value is 12 with accuracy score 0.36\n"
     ]
    }
   ],
   "source": [
    "Ks= 15 \n",
    "dict={}\n",
    "for k in range(1,Ks):\n",
    "    neigh= KNeighborsClassifier(n_neighbors=k)\n",
    "    neigh.fit(x_train,y_train)\n",
    "    \n",
    "    yhat=neigh.predict(x_test)\n",
    "    \n",
    "    dict[k]= accuracy_score(y_test,yhat)\n",
    "\n",
    "k= sorted(dict, key=dict.get, reverse=True)[0]\n",
    "print('The best K value is {} with accuracy score {}'.format(k,dict[k]))"
   ]
  },
  {
   "cell_type": "markdown",
   "metadata": {},
   "source": [
    "Now let's build our KNN model using the above K value."
   ]
  },
  {
   "cell_type": "code",
   "execution_count": 25,
   "metadata": {},
   "outputs": [
    {
     "data": {
      "text/plain": [
       "KNeighborsClassifier(n_neighbors=12)"
      ]
     },
     "execution_count": 25,
     "metadata": {},
     "output_type": "execute_result"
    }
   ],
   "source": [
    "KNN= KNeighborsClassifier(n_neighbors=k)\n",
    "KNN.fit(x_train,y_train)"
   ]
  },
  {
   "cell_type": "markdown",
   "metadata": {},
   "source": [
    "### 4,2 Decision Tree"
   ]
  },
  {
   "cell_type": "code",
   "execution_count": 26,
   "metadata": {},
   "outputs": [
    {
     "data": {
      "text/plain": [
       "DecisionTreeClassifier(criterion='entropy', max_depth=4)"
      ]
     },
     "execution_count": 26,
     "metadata": {},
     "output_type": "execute_result"
    }
   ],
   "source": [
    "DecisionTree= DecisionTreeClassifier(criterion='entropy', max_depth=4)\n",
    "DecisionTree.fit(x_train,y_train)"
   ]
  },
  {
   "cell_type": "markdown",
   "metadata": {},
   "source": [
    "### 4.3 Support Vector Machine (SVM)"
   ]
  },
  {
   "cell_type": "code",
   "execution_count": 27,
   "metadata": {},
   "outputs": [
    {
     "data": {
      "text/plain": [
       "SVC()"
      ]
     },
     "execution_count": 27,
     "metadata": {},
     "output_type": "execute_result"
    }
   ],
   "source": [
    "SVM= svm.SVC(kernel='rbf')\n",
    "SVM.fit(x_train,y_train)"
   ]
  },
  {
   "cell_type": "markdown",
   "metadata": {},
   "source": [
    "### 4.4 Logistic Regression"
   ]
  },
  {
   "cell_type": "code",
   "execution_count": 28,
   "metadata": {},
   "outputs": [
    {
     "data": {
      "text/plain": [
       "LogisticRegression(C=0.01, solver='liblinear')"
      ]
     },
     "execution_count": 28,
     "metadata": {},
     "output_type": "execute_result"
    }
   ],
   "source": [
    "LR= LogisticRegression(C=0.01,solver='liblinear')\n",
    "LR.fit(x_train,y_train)"
   ]
  },
  {
   "cell_type": "markdown",
   "metadata": {},
   "source": [
    "## 5. Model Evaluation\n",
    "Now we have our models built let's evaluate them using the test set to choose the best model."
   ]
  },
  {
   "cell_type": "markdown",
   "metadata": {},
   "source": [
    "#### 5.1 Prediction \n",
    "Predict test data for each model"
   ]
  },
  {
   "cell_type": "code",
   "execution_count": 29,
   "metadata": {},
   "outputs": [],
   "source": [
    "KNN_predict=KNN.predict(x_test)\n",
    "DecisionTree_predict= DecisionTree.predict(x_test)\n",
    "SVM_predict= SVM.predict(x_test)\n",
    "LR_predict= LR.predict(x_test)\n",
    "LR_predict_proba= LR.predict_proba(x_test)"
   ]
  },
  {
   "cell_type": "markdown",
   "metadata": {},
   "source": [
    "#### 5.2 Evaluation\n",
    "First let's create function for each evaluation metric."
   ]
  },
  {
   "cell_type": "code",
   "execution_count": 30,
   "metadata": {},
   "outputs": [],
   "source": [
    "def accuracy(yhat):\n",
    "    return round(accuracy_score(y_test,yhat),2)\n",
    "\n",
    "def f1(yhat):\n",
    "    return round(f1_score(y_test,yhat,average='weighted'),2)\n",
    "\n",
    "def jaccard(yhat):\n",
    "    return round(jaccard_score(y_test,yhat,average='weighted'),2)\n",
    "\n",
    "def logloss(yhat):\n",
    "    return round(log_loss(y_test,yhat),2)"
   ]
  },
  {
   "cell_type": "markdown",
   "metadata": {},
   "source": [
    "Now as we need to create a report for each model and its evaluation metrics. let's apply the models in the above functions and save the values in dictionary to create a DataFrame using this dictionary."
   ]
  },
  {
   "cell_type": "code",
   "execution_count": 31,
   "metadata": {},
   "outputs": [],
   "source": [
    "data= {'Algorithm': ['KNN','Decision Tree','SVM','Logistic Regression'],\n",
    "      'Accuracy': [accuracy(KNN_predict),accuracy(DecisionTree_predict),accuracy(SVM_predict),accuracy(LR_predict)],\n",
    "       'Jaccard': [jaccard(KNN_predict),jaccard(DecisionTree_predict),jaccard(SVM_predict),jaccard(LR_predict)],\n",
    "       'F1-Score':[f1(KNN_predict),f1(DecisionTree_predict),f1(SVM_predict),f1(LR_predict)],\n",
    "       'LogLoss':['NA','NA','NA',logloss(LR_predict_proba)]\n",
    "      }"
   ]
  },
  {
   "cell_type": "markdown",
   "metadata": {},
   "source": [
    "### 6. Results"
   ]
  },
  {
   "cell_type": "code",
   "execution_count": 32,
   "metadata": {},
   "outputs": [
    {
     "data": {
      "text/html": [
       "<div>\n",
       "<style scoped>\n",
       "    .dataframe tbody tr th:only-of-type {\n",
       "        vertical-align: middle;\n",
       "    }\n",
       "\n",
       "    .dataframe tbody tr th {\n",
       "        vertical-align: top;\n",
       "    }\n",
       "\n",
       "    .dataframe thead th {\n",
       "        text-align: right;\n",
       "    }\n",
       "</style>\n",
       "<table border=\"1\" class=\"dataframe\">\n",
       "  <thead>\n",
       "    <tr style=\"text-align: right;\">\n",
       "      <th></th>\n",
       "      <th>Accuracy</th>\n",
       "      <th>Jaccard</th>\n",
       "      <th>F1-Score</th>\n",
       "      <th>LogLoss</th>\n",
       "    </tr>\n",
       "    <tr>\n",
       "      <th>Algorithm</th>\n",
       "      <th></th>\n",
       "      <th></th>\n",
       "      <th></th>\n",
       "      <th></th>\n",
       "    </tr>\n",
       "  </thead>\n",
       "  <tbody>\n",
       "    <tr>\n",
       "      <th>KNN</th>\n",
       "      <td>0.36</td>\n",
       "      <td>0.21</td>\n",
       "      <td>0.35</td>\n",
       "      <td>NA</td>\n",
       "    </tr>\n",
       "    <tr>\n",
       "      <th>Decision Tree</th>\n",
       "      <td>0.34</td>\n",
       "      <td>0.19</td>\n",
       "      <td>0.32</td>\n",
       "      <td>NA</td>\n",
       "    </tr>\n",
       "    <tr>\n",
       "      <th>SVM</th>\n",
       "      <td>0.36</td>\n",
       "      <td>0.22</td>\n",
       "      <td>0.36</td>\n",
       "      <td>NA</td>\n",
       "    </tr>\n",
       "    <tr>\n",
       "      <th>Logistic Regression</th>\n",
       "      <td>0.41</td>\n",
       "      <td>0.25</td>\n",
       "      <td>0.40</td>\n",
       "      <td>1.28</td>\n",
       "    </tr>\n",
       "  </tbody>\n",
       "</table>\n",
       "</div>"
      ],
      "text/plain": [
       "                     Accuracy  Jaccard  F1-Score LogLoss\n",
       "Algorithm                                               \n",
       "KNN                      0.36     0.21      0.35      NA\n",
       "Decision Tree            0.34     0.19      0.32      NA\n",
       "SVM                      0.36     0.22      0.36      NA\n",
       "Logistic Regression      0.41     0.25      0.40    1.28"
      ]
     },
     "execution_count": 32,
     "metadata": {},
     "output_type": "execute_result"
    }
   ],
   "source": [
    "report= pd.DataFrame(data).set_index('Algorithm',drop=True)\n",
    "report"
   ]
  },
  {
   "cell_type": "markdown",
   "metadata": {},
   "source": [
    "We can see from the above report that **Logistic Regression** is the most appropriate model to predict the customer categories."
   ]
  }
 ],
 "metadata": {
  "kernelspec": {
   "display_name": "Python 3",
   "language": "python",
   "name": "python3"
  },
  "language_info": {
   "codemirror_mode": {
    "name": "ipython",
    "version": 3
   },
   "file_extension": ".py",
   "mimetype": "text/x-python",
   "name": "python",
   "nbconvert_exporter": "python",
   "pygments_lexer": "ipython3",
   "version": "3.8.3"
  }
 },
 "nbformat": 4,
 "nbformat_minor": 4
}
